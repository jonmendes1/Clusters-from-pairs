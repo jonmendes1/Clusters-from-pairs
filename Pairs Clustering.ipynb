{
 "cells": [
  {
   "cell_type": "code",
   "execution_count": null,
   "metadata": {
    "collapsed": false
   },
   "outputs": [],
   "source": [
    "import pandas as pd\n",
    "import numpy as np\n",
    "\n",
    "import teradata\n",
    "import calendar\n",
    "import time\n",
    "import unicodedata\n",
    "import math\n",
    "from collections import defaultdict\n",
    "\n",
    "##############################################################################\n",
    "try:\n",
    "    user = input(\"Teradata Username: \") #  # Teradata Username\n",
    "    pswd = input(\"Teradata Password: \") #  # Teradata Password\n",
    "    db = input(\"Database \")   #\"db\"\n",
    "except NameError: #Python 3\n",
    "    pass\n",
    "print(\"user: \", user, \"pswd: \", pswd, \"db: \",db)\n",
    "##############################################################################\n",
    "\n",
    "SourceTableName = #\"db.sTable\" # name of the table with the source data to be mapped\n",
    "NewTableName = #\"db.dTable\" # name of the table to create and store results"
   ]
  },
  {
   "cell_type": "code",
   "execution_count": null,
   "metadata": {
    "collapsed": false
   },
   "outputs": [],
   "source": [
    "###Teradata Functions and queries\n",
    "\n",
    "\n",
    "\n",
    "### Opening a Teradata Connection\n",
    "def openTeradataConnection(db, user, pswd):\n",
    "    udaExec = teradata.UdaExec(appName=\"TestConnection\", version=\"0.1\", logConsole=False)\n",
    "    session = udaExec.connect(method=\"odbc\", system=db, username=user, password=pswd)\n",
    "    return session\n",
    "\n",
    "### Executing a query\n",
    "def executeQuery(session, query):\n",
    "    print(\"Executing query...\")\n",
    "    startTime = calendar.timegm(time.gmtime())\n",
    "    queryData = session.execute(query)\n",
    "    qtime = calendar.timegm(time.gmtime())\n",
    "    print (\"Query took \", str(qtime - startTime), \" seconds.\")\n",
    "    return queryData\n",
    "\n",
    "###create table\n",
    "def createTable(NewTableName):\n",
    "    executeQuery(session, \"\"\"create multiset table \"\"\"+NewTableName+\"\"\" ( ind varchar(50), val varchar(50)\n",
    "             ) primary index(ind)\"\"\")\n",
    "\n",
    "###insert values into table\n",
    "def uploadToTdTable(tableName, data):\n",
    "    max_batchsize = 16383\n",
    "    num_batches = math.ceil(len(data)/max_batchsize)\n",
    "    for i in range(num_batches):\n",
    "        upload = data[max_batchsize*(i):max_batchsize*(i+1)]\n",
    "        session.executemany(\"\"\"INSERT INTO \"\"\"+tableName+\"\"\" (ind, val) VALUES (?, ?)\"\"\", upload, batch=True)\n",
    "        print(\"finished uploading batch\",i+1, \"out of\",num_batches)\n",
    "    print(\"done!\")\n",
    "\n",
    "### Convert source data to dictionary\n",
    "def sourceToDict(df):\n",
    "    d = defaultdict(list)\n",
    "    for i, j in zip(df.a,df.b):\n",
    "        d[i].append(j)\n",
    "    for i in d:\n",
    "        d[i].append(i)\n",
    "    return d\n",
    "\n",
    "\n",
    "### Check if value exists in defaultdict\n",
    "def in_values(s, d):\n",
    "    \"\"\"Does `s` appear in any of the values in `d`?\"\"\"\n",
    "    for v in d.values():\n",
    "        if s in v:\n",
    "            return True\n",
    "    return False\n",
    "\n",
    "\n",
    "\n",
    "### BFS to make groups dictionary (instead of sourceToDict())\n",
    "\n",
    "\n",
    "        \n",
    "def makeGroups(pairs):      \n",
    "    def step(temp):\n",
    "        while len(temp) > 0:\n",
    "            x = temp.pop(0)\n",
    "            for b in pairs[pairs.a == x].b:\n",
    "                if b not in temp and b != x and not in_values(b, done):\n",
    "                    temp.append(b)\n",
    "                    bList.remove(b)\n",
    "            done[i].append(x)\n",
    "    bList = list(pd.unique(pairs[['a', 'b']].values.ravel()))\n",
    "    temp = []\n",
    "    done = defaultdict(list)\n",
    "    i = 1\n",
    "    while len(bList) > 0:\n",
    "        temp.append(bList.pop(0))\n",
    "        step(temp)\n",
    "        i+=1\n",
    "    return done\n",
    "\n",
    "\n",
    "### Teradata query\n",
    "TdQuery = \"\"\"select * from \"\"\"+SourceTableName"
   ]
  },
  {
   "cell_type": "code",
   "execution_count": null,
   "metadata": {
    "collapsed": false
   },
   "outputs": [],
   "source": [
    "#run queries\n",
    "session = openTeradataConnection(db, user, pswd)\n",
    "data = executeQuery(session, TdQuery)\n"
   ]
  },
  {
   "cell_type": "code",
   "execution_count": null,
   "metadata": {
    "collapsed": false
   },
   "outputs": [],
   "source": [
    "#convert to DataFrame\n",
    "df = pd.DataFrame(data.fetchall())\n",
    "df.columns = ['a','b']"
   ]
  },
  {
   "cell_type": "markdown",
   "metadata": {
    "collapsed": true
   },
   "source": [
    "testdf = pd.DataFrame([['a','b'],['a','c'],['a','d'],['b','d'],['b','e'],['d','f'],['e','g'],['h','i'],['h','j'],['i','j'],['k','a']])\n",
    "testdf.columns = ['a','b']\n",
    "testdf"
   ]
  },
  {
   "cell_type": "code",
   "execution_count": null,
   "metadata": {
    "collapsed": false
   },
   "outputs": [],
   "source": [
    "#create groups dictionary\n",
    "d = makeGroups(df)"
   ]
  },
  {
   "cell_type": "code",
   "execution_count": null,
   "metadata": {
    "collapsed": false
   },
   "outputs": [],
   "source": [
    "mapping = pd.DataFrame([[k,vv]  for k,v in d.items() for vv in v])\n",
    "data = [tuple(x) for x in mapping.to_records(index=False)]"
   ]
  },
  {
   "cell_type": "code",
   "execution_count": null,
   "metadata": {
    "collapsed": false,
    "scrolled": true
   },
   "outputs": [],
   "source": [
    "# create table and upload mapping\n",
    "\n",
    "#createTable(NewTableName)\n",
    "#uploadToTdTable(NewTableName, data)\n",
    "\n"
   ]
  }
 ],
 "metadata": {
  "kernelspec": {
   "display_name": "Python 3",
   "language": "python",
   "name": "python3"
  },
  "language_info": {
   "codemirror_mode": {
    "name": "ipython",
    "version": 3
   },
   "file_extension": ".py",
   "mimetype": "text/x-python",
   "name": "python",
   "nbconvert_exporter": "python",
   "pygments_lexer": "ipython3",
   "version": "3.6.0"
  }
 },
 "nbformat": 4,
 "nbformat_minor": 2
}
